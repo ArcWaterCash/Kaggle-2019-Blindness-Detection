{
 "cells": [
  {
   "cell_type": "code",
   "execution_count": 64,
   "metadata": {
    "collapsed": true,
    "pycharm": {
     "is_executing": false
    }
   },
   "outputs": [],
   "source": [
    "import pandas as pd\n",
    "import numpy as np\n",
    "from retinopathy.callbacks import cohen_kappa_score\n",
    "from retinopathy.models.heads import regression_to_class"
   ]
  },
  {
   "cell_type": "code",
   "execution_count": 65,
   "outputs": [
    {
     "data": {
      "text/plain": "    image_id diagnosis_true  \\\n0  IDRiD_001      tensor(3)   \n1  IDRiD_005      tensor(4)   \n2  IDRiD_011      tensor(3)   \n3  IDRiD_014      tensor(4)   \n4  IDRiD_018      tensor(2)   \n\n                                              logits  regression  \n0  [0.013231222, 0.008637085, 0.73025614, 0.21559...    2.241249  \n1  [0.10114664, 0.0289896, 0.0063282703, 0.050347...    3.493390  \n2  [0.011858935, 0.015906084, 0.9036092, 0.050163...    2.058267  \n3  [0.007668243, 0.006203685, 0.0047766133, 0.012...    3.860499  \n4  [0.038102895, 0.09725846, 0.7801861, 0.0401610...    1.952713  ",
      "text/html": "<div>\n<style scoped>\n    .dataframe tbody tr th:only-of-type {\n        vertical-align: middle;\n    }\n\n    .dataframe tbody tr th {\n        vertical-align: top;\n    }\n\n    .dataframe thead th {\n        text-align: right;\n    }\n</style>\n<table border=\"1\" class=\"dataframe\">\n  <thead>\n    <tr style=\"text-align: right;\">\n      <th></th>\n      <th>image_id</th>\n      <th>diagnosis_true</th>\n      <th>logits</th>\n      <th>regression</th>\n    </tr>\n  </thead>\n  <tbody>\n    <tr>\n      <th>0</th>\n      <td>IDRiD_001</td>\n      <td>tensor(3)</td>\n      <td>[0.013231222, 0.008637085, 0.73025614, 0.21559...</td>\n      <td>2.241249</td>\n    </tr>\n    <tr>\n      <th>1</th>\n      <td>IDRiD_005</td>\n      <td>tensor(4)</td>\n      <td>[0.10114664, 0.0289896, 0.0063282703, 0.050347...</td>\n      <td>3.493390</td>\n    </tr>\n    <tr>\n      <th>2</th>\n      <td>IDRiD_011</td>\n      <td>tensor(3)</td>\n      <td>[0.011858935, 0.015906084, 0.9036092, 0.050163...</td>\n      <td>2.058267</td>\n    </tr>\n    <tr>\n      <th>3</th>\n      <td>IDRiD_014</td>\n      <td>tensor(4)</td>\n      <td>[0.007668243, 0.006203685, 0.0047766133, 0.012...</td>\n      <td>3.860499</td>\n    </tr>\n    <tr>\n      <th>4</th>\n      <td>IDRiD_018</td>\n      <td>tensor(2)</td>\n      <td>[0.038102895, 0.09725846, 0.7801861, 0.0401610...</td>\n      <td>1.952713</td>\n    </tr>\n  </tbody>\n</table>\n</div>"
     },
     "metadata": {},
     "output_type": "execute_result",
     "execution_count": 65
    }
   ],
   "source": [
    "df1 = pd.read_pickle('../reg_seresnext50_rms_512_medium_mse_aptos2019_fold0_awesome_babbage_on_idrid_fold0.pkl')\n",
    "df1.drop(columns=['features'], inplace=True)\n",
    "df1.head()"
   ],
   "metadata": {
    "collapsed": false,
    "pycharm": {
     "name": "#%%\n",
     "is_executing": false
    }
   }
  },
  {
   "cell_type": "code",
   "execution_count": 66,
   "outputs": [
    {
     "data": {
      "text/plain": "    image_id diagnosis_true  \\\n0  IDRiD_001      tensor(3)   \n1  IDRiD_005      tensor(4)   \n2  IDRiD_011      tensor(3)   \n3  IDRiD_014      tensor(4)   \n4  IDRiD_018      tensor(2)   \n\n                                              logits  regression  \\\n0  [0.013231222, 0.008637085, 0.73025614, 0.21559...    2.241249   \n1  [0.10114664, 0.0289896, 0.0063282703, 0.050347...    3.493390   \n2  [0.011858935, 0.015906084, 0.9036092, 0.050163...    2.058267   \n3  [0.007668243, 0.006203685, 0.0047766133, 0.012...    3.860499   \n4  [0.038102895, 0.09725846, 0.7801861, 0.0401610...    1.952713   \n\n   regression_from_logits  \n0                2.245056  \n1                3.445441  \n2                2.047464  \n3                3.928212  \n4                1.955280  ",
      "text/html": "<div>\n<style scoped>\n    .dataframe tbody tr th:only-of-type {\n        vertical-align: middle;\n    }\n\n    .dataframe tbody tr th {\n        vertical-align: top;\n    }\n\n    .dataframe thead th {\n        text-align: right;\n    }\n</style>\n<table border=\"1\" class=\"dataframe\">\n  <thead>\n    <tr style=\"text-align: right;\">\n      <th></th>\n      <th>image_id</th>\n      <th>diagnosis_true</th>\n      <th>logits</th>\n      <th>regression</th>\n      <th>regression_from_logits</th>\n    </tr>\n  </thead>\n  <tbody>\n    <tr>\n      <th>0</th>\n      <td>IDRiD_001</td>\n      <td>tensor(3)</td>\n      <td>[0.013231222, 0.008637085, 0.73025614, 0.21559...</td>\n      <td>2.241249</td>\n      <td>2.245056</td>\n    </tr>\n    <tr>\n      <th>1</th>\n      <td>IDRiD_005</td>\n      <td>tensor(4)</td>\n      <td>[0.10114664, 0.0289896, 0.0063282703, 0.050347...</td>\n      <td>3.493390</td>\n      <td>3.445441</td>\n    </tr>\n    <tr>\n      <th>2</th>\n      <td>IDRiD_011</td>\n      <td>tensor(3)</td>\n      <td>[0.011858935, 0.015906084, 0.9036092, 0.050163...</td>\n      <td>2.058267</td>\n      <td>2.047464</td>\n    </tr>\n    <tr>\n      <th>3</th>\n      <td>IDRiD_014</td>\n      <td>tensor(4)</td>\n      <td>[0.007668243, 0.006203685, 0.0047766133, 0.012...</td>\n      <td>3.860499</td>\n      <td>3.928212</td>\n    </tr>\n    <tr>\n      <th>4</th>\n      <td>IDRiD_018</td>\n      <td>tensor(2)</td>\n      <td>[0.038102895, 0.09725846, 0.7801861, 0.0401610...</td>\n      <td>1.952713</td>\n      <td>1.955280</td>\n    </tr>\n  </tbody>\n</table>\n</div>"
     },
     "metadata": {},
     "output_type": "execute_result",
     "execution_count": 66
    }
   ],
   "source": [
    "def regression_from_logits(logits):\n",
    "    return logits[1] + logits[2] * 2 + logits[3] * 3 + logits[4] * 4\n",
    "\n",
    "df1['regression_from_logits'] = df1['logits'].apply(regression_from_logits)\n",
    "df1.head()"
   ],
   "metadata": {
    "collapsed": false,
    "pycharm": {
     "name": "#%%\n",
     "is_executing": false
    }
   }
  },
  {
   "cell_type": "code",
   "execution_count": 67,
   "outputs": [
    {
     "data": {
      "text/plain": "    image_id diagnosis_true  \\\n0  IDRiD_001      tensor(3)   \n1  IDRiD_005      tensor(4)   \n2  IDRiD_011      tensor(3)   \n3  IDRiD_014      tensor(4)   \n4  IDRiD_018      tensor(2)   \n\n                                              logits  regression  \\\n0  [0.013231222, 0.008637085, 0.73025614, 0.21559...    2.241249   \n1  [0.10114664, 0.0289896, 0.0063282703, 0.050347...    3.493390   \n2  [0.011858935, 0.015906084, 0.9036092, 0.050163...    2.058267   \n3  [0.007668243, 0.006203685, 0.0047766133, 0.012...    3.860499   \n4  [0.038102895, 0.09725846, 0.7801861, 0.0401610...    1.952713   \n\n   regression_from_logits  diagnisos_regression  diagnisos_logits  \n0                2.245056                     2                 2  \n1                3.445441                     3                 4  \n2                2.047464                     2                 2  \n3                3.928212                     4                 4  \n4                1.955280                     2                 2  ",
      "text/html": "<div>\n<style scoped>\n    .dataframe tbody tr th:only-of-type {\n        vertical-align: middle;\n    }\n\n    .dataframe tbody tr th {\n        vertical-align: top;\n    }\n\n    .dataframe thead th {\n        text-align: right;\n    }\n</style>\n<table border=\"1\" class=\"dataframe\">\n  <thead>\n    <tr style=\"text-align: right;\">\n      <th></th>\n      <th>image_id</th>\n      <th>diagnosis_true</th>\n      <th>logits</th>\n      <th>regression</th>\n      <th>regression_from_logits</th>\n      <th>diagnisos_regression</th>\n      <th>diagnisos_logits</th>\n    </tr>\n  </thead>\n  <tbody>\n    <tr>\n      <th>0</th>\n      <td>IDRiD_001</td>\n      <td>tensor(3)</td>\n      <td>[0.013231222, 0.008637085, 0.73025614, 0.21559...</td>\n      <td>2.241249</td>\n      <td>2.245056</td>\n      <td>2</td>\n      <td>2</td>\n    </tr>\n    <tr>\n      <th>1</th>\n      <td>IDRiD_005</td>\n      <td>tensor(4)</td>\n      <td>[0.10114664, 0.0289896, 0.0063282703, 0.050347...</td>\n      <td>3.493390</td>\n      <td>3.445441</td>\n      <td>3</td>\n      <td>4</td>\n    </tr>\n    <tr>\n      <th>2</th>\n      <td>IDRiD_011</td>\n      <td>tensor(3)</td>\n      <td>[0.011858935, 0.015906084, 0.9036092, 0.050163...</td>\n      <td>2.058267</td>\n      <td>2.047464</td>\n      <td>2</td>\n      <td>2</td>\n    </tr>\n    <tr>\n      <th>3</th>\n      <td>IDRiD_014</td>\n      <td>tensor(4)</td>\n      <td>[0.007668243, 0.006203685, 0.0047766133, 0.012...</td>\n      <td>3.860499</td>\n      <td>3.928212</td>\n      <td>4</td>\n      <td>4</td>\n    </tr>\n    <tr>\n      <th>4</th>\n      <td>IDRiD_018</td>\n      <td>tensor(2)</td>\n      <td>[0.038102895, 0.09725846, 0.7801861, 0.0401610...</td>\n      <td>1.952713</td>\n      <td>1.955280</td>\n      <td>2</td>\n      <td>2</td>\n    </tr>\n  </tbody>\n</table>\n</div>"
     },
     "metadata": {},
     "output_type": "execute_result",
     "execution_count": 67
    }
   ],
   "source": [
    "df1['diagnisos_regression'] = df1['regression'].apply(regression_to_class).apply(int)\n",
    "df1['diagnisos_logits'] = df1['logits'].apply(np.argmax)\n",
    "df1.head()\n"
   ],
   "metadata": {
    "collapsed": false,
    "pycharm": {
     "name": "#%%\n",
     "is_executing": false
    }
   }
  },
  {
   "cell_type": "code",
   "execution_count": 68,
   "outputs": [],
   "source": [
    "df1['diagnosis_true'] = df1['diagnosis_true'].apply(int)\n",
    "\n",
    "df1['diagnisos_reg_from_log'] = df1['regression_from_logits'].apply(regression_to_class).apply(int)"
   ],
   "metadata": {
    "collapsed": false,
    "pycharm": {
     "name": "#%%\n",
     "is_executing": false
    }
   }
  },
  {
   "cell_type": "code",
   "execution_count": 69,
   "outputs": [
    {
     "name": "stdout",
     "text": [
      "0.759223365860179",
      "\n"
     ],
     "output_type": "stream"
    }
   ],
   "source": [
    "score, num, denom = cohen_kappa_score(df1['diagnosis_true'].values, \n",
    "                          df1['diagnisos_logits'].values, \n",
    "                          weights='quadratic')\n",
    "print(score)"
   ],
   "metadata": {
    "collapsed": false,
    "pycharm": {
     "name": "#%%\n",
     "is_executing": false
    }
   }
  },
  {
   "cell_type": "code",
   "execution_count": 70,
   "outputs": [
    {
     "name": "stdout",
     "text": [
      "0.7415271254212428",
      "\n"
     ],
     "output_type": "stream"
    }
   ],
   "source": [
    "\n",
    "score, num, denom = cohen_kappa_score(df1['diagnosis_true'].values, \n",
    "                          df1['diagnisos_regression'].values, \n",
    "                          weights='quadratic')\n",
    "print(score)"
   ],
   "metadata": {
    "collapsed": false,
    "pycharm": {
     "name": "#%%\n",
     "is_executing": false
    }
   }
  },
  {
   "cell_type": "code",
   "execution_count": 71,
   "outputs": [
    {
     "name": "stdout",
     "text": [
      "0.7616397302793536",
      "\n"
     ],
     "output_type": "stream"
    }
   ],
   "source": [
    "\n",
    "score, num, denom = cohen_kappa_score(df1['diagnosis_true'].values, \n",
    "                          df1['diagnisos_reg_from_log'].values, \n",
    "                          weights='quadratic')\n",
    "print(score)\n"
   ],
   "metadata": {
    "collapsed": false,
    "pycharm": {
     "name": "#%%\n",
     "is_executing": false
    }
   }
  },
  {
   "cell_type": "code",
   "execution_count": 72,
   "outputs": [
    {
     "data": {
      "text/plain": "      image_id  diagnosis_true  \\\n0    IDRiD_001               3   \n1    IDRiD_005               4   \n2    IDRiD_011               3   \n6    IDRiD_024               4   \n7    IDRiD_030               4   \n9    IDRiD_034               3   \n12   IDRiD_045               2   \n13   IDRiD_046               4   \n14   IDRiD_049               3   \n16   IDRiD_051               2   \n20   IDRiD_065               3   \n22   IDRiD_074               2   \n24   IDRiD_088               3   \n25   IDRiD_090               4   \n27   IDRiD_101               3   \n29   IDRiD_110               3   \n30   IDRiD_114               3   \n32   IDRiD_119               4   \n34   IDRiD_124               2   \n37   IDRiD_137               2   \n39   IDRiD_146               0   \n41   IDRiD_152               0   \n42   IDRiD_153               0   \n46   IDRiD_166               0   \n57   IDRiD_224               4   \n65   IDRiD_251               0   \n66   IDRiD_252               2   \n67   IDRiD_253               3   \n69   IDRiD_262               2   \n70   IDRiD_266               1   \n73   IDRiD_278               3   \n75   IDRiD_282               2   \n76   IDRiD_291               1   \n79   IDRiD_302               1   \n80   IDRiD_309               3   \n91   IDRiD_345               0   \n93   IDRiD_352               0   \n94   IDRiD_364               3   \n95   IDRiD_365               0   \n97   IDRiD_372               3   \n98   IDRiD_376               3   \n99   IDRiD_384               3   \n100  IDRiD_388               1   \n101  IDRiD_392               4   \n102  IDRiD_394               4   \n105  IDRiD_412               2   \n106  IDRiD_002               4   \n107  IDRiD_008               2   \n116  IDRiD_045               0   \n117  IDRiD_048               4   \n121  IDRiD_060               3   \n122  IDRiD_061               4   \n124  IDRiD_076               2   \n126  IDRiD_084               2   \n129  IDRiD_094               0   \n130  IDRiD_097               0   \n\n                                                logits  regression  \\\n0    [0.013231222, 0.008637085, 0.73025614, 0.21559...    2.241249   \n1    [0.10114664, 0.0289896, 0.0063282703, 0.050347...    3.493390   \n2    [0.011858935, 0.015906084, 0.9036092, 0.050163...    2.058267   \n6    [0.048790153, 0.12205569, 0.3810807, 0.1345484...    2.418279   \n7    [0.028467596, 0.008369564, 0.3763195, 0.205151...    3.050488   \n9    [0.023887828, 0.014313844, 0.7780228, 0.163983...    2.056674   \n12   [0.3135545, 0.0634013, 0.509784, 0.07251287, 0...    1.617755   \n13   [0.21101043, 0.098241754, 0.64645225, 0.025946...    1.211233   \n14   [0.02046901, 0.01142912, 0.8319336, 0.10941358...    2.170901   \n16   [0.03714208, 0.8422897, 0.070583075, 0.0094649...    1.228551   \n20   [0.14327437, 0.46193218, 0.34626442, 0.0180027...    1.160176   \n22   [0.01571586, 0.5843479, 0.3389033, 0.010290413...    1.537929   \n24   [0.14276186, 0.2562257, 0.5169418, 0.069241926...    1.686439   \n25   [0.013981238, 0.008904123, 0.91487694, 0.05258...    2.092127   \n27   [0.015787324, 0.010842741, 0.87353253, 0.08092...    2.131637   \n29   [0.02130167, 0.00786723, 0.028772496, 0.287833...    3.411088   \n30   [0.0040452788, 0.0030099687, 0.8804181, 0.0765...    2.547068   \n32   [0.021432439, 0.0024534815, 0.010536361, 0.894...    3.288906   \n34   [0.024769546, 0.9255, 0.035429306, 0.005170412...    1.099026   \n37   [0.06928754, 0.51132727, 0.36832795, 0.0206915...    1.304356   \n39   [0.42308944, 0.011971636, 0.007335985, 0.38802...    2.155368   \n41   [0.42880386, 0.544764, 0.0031973387, 0.0086635...    0.464590   \n42   [0.3071051, 0.117582984, 0.35141933, 0.1139592...    1.831347   \n46   [0.3392605, 0.4720056, 0.11669564, 0.027945843...    1.121588   \n57   [0.03914216, 0.0075050406, 0.3540531, 0.296483...    3.175687   \n65   [0.7241927, 0.05314824, 0.17989983, 0.02062909...   -0.000570   \n66   [0.6612754, 0.055302206, 0.21977913, 0.0355642...    0.346779   \n67   [0.005765122, 0.013806587, 0.9675243, 0.009310...    1.843959   \n69   [0.03813638, 0.92110455, 0.027865082, 0.002813...    0.858096   \n70   [0.821764, 0.14744437, 0.0069305794, 0.0120342...   -0.000332   \n73   [0.0053586676, 0.0030108117, 0.9413374, 0.0447...    2.179871   \n75   [0.018949464, 0.9689316, 0.006675612, 0.000395...    0.739510   \n76   [0.89911926, 0.04139836, 0.015149119, 0.017615...   -0.000951   \n79   [0.90948266, 0.032950904, 0.02168486, 0.016649...   -0.000690   \n80   [0.016661083, 0.012814043, 0.77909666, 0.17507...    2.107676   \n91   [0.5523362, 0.31756443, 0.047071327, 0.0252601...    0.277751   \n93   [0.75483316, 0.079705924, 0.08705256, 0.049083...    0.650596   \n94   [0.07085795, 0.024626015, 0.7239038, 0.1052315...    2.088740   \n95   [0.14111285, 0.85598725, 0.00048452953, 0.0008...    0.071784   \n97   [0.053791277, 0.2193445, 0.63994354, 0.0420178...    1.721092   \n98   [0.07137477, 0.010378005, 0.38596898, 0.415606...    2.831739   \n99   [0.011261826, 0.004269046, 0.8332663, 0.122742...    2.476792   \n100  [0.750382, 0.17839563, 0.026123412, 0.0306111,...    0.355109   \n101  [0.012525975, 0.009370796, 0.6878051, 0.259050...    2.426302   \n102  [0.025297679, 0.02166147, 0.7077292, 0.2247442...    2.228523   \n105  [0.0037262721, 0.993134, 0.0016863926, 0.00015...    0.795019   \n106  [0.23069882, 0.65680885, 0.06744452, 0.0193109...    0.833436   \n107  [0.058012035, 0.16373846, 0.10245537, 0.026732...    2.836380   \n116  [0.42615587, 0.4017964, 0.076411456, 0.0493222...    1.229057   \n117  [0.088286854, 0.21105619, 0.60846066, 0.050920...    1.679520   \n121  [0.71762276, 0.23583168, 0.014929408, 0.023151...    0.064259   \n122  [0.07196774, 0.0296015, 0.70887876, 0.08657965...    2.465634   \n124  [0.57475644, 0.37787446, 0.0077990615, 0.02018...    0.272266   \n126  [0.93679893, 0.026608653, 0.008746877, 0.01606...   -0.002348   \n129  [0.22307378, 0.23767322, 0.4535735, 0.03218691...    1.433398   \n130  [0.091359094, 0.87817156, 0.010680983, 0.00996...    0.846728   \n\n     regression_from_logits  diagnisos_regression  diagnisos_logits  \\\n0                  2.245056                     2                 2   \n1                  3.445441                     3                 4   \n2                  2.047464                     2                 2   \n6                  2.541963                     2                 2   \n7                  2.903230                     3                 4   \n9                  2.141478                     2                 2   \n12                 1.463497                     2                 2   \n13                 1.542382                     1                 2   \n14                 2.110556                     2                 2   \n16                 1.173932                     1                 1   \n20                 1.330574                     1                 1   \n22                 1.495996                     2                 1   \n24                 1.557150                     2                 2   \n25                 2.035023                     2                 2   \n27                 2.076330                     2                 2   \n29                 3.545813                     3                 4   \n30                 2.137432                     3                 2   \n32                 2.991813                     3                 3   \n34                 1.048393                     1                 1   \n37                 1.431520                     1                 1   \n39                 1.869027                     2                 0   \n41                 0.635434                     0                 1   \n42                 1.602033                     2                 2   \n46                 0.965604                     1                 1   \n57                 2.816326                     3                 2   \n65                 0.563356                     0                 0   \n66                 0.713869                     0                 0   \n67                 1.991161                     2                 2   \n69                 1.025597                     1                 1   \n70                 0.244715                     0                 0   \n73                 2.042072                     2                 2   \n75                 1.003661                     1                 1   \n76                 0.231415                     0                 0   \n79                 0.203197                     0                 0   \n80                 2.161641                     2                 2   \n91                 0.718559                     0                 0   \n93                 0.518360                     1                 0   \n94                 2.089651                     2                 2   \n95                 0.865794                     0                 1   \n97                 1.804897                     2                 2   \n98                 2.495823                     3                 3   \n99                 2.152871                     2                 2   \n100                0.380427                     0                 0   \n101                2.287123                     2                 2   \n102                2.193622                     2                 2   \n105                1.002165                     1                 1   \n106                0.952578                     1                 1   \n107                3.045093                     3                 4   \n116                0.887842                     1                 0   \n117                1.745843                     2                 2   \n121                0.369004                     0                 0   \n122                2.118988                     2                 2   \n124                0.531564                     0                 0   \n126                0.139419                     0                 0   \n129                1.455351                     1                 2   \n130                0.968723                     1                 1   \n\n     diagnisos_reg_from_log  \n0                         2  \n1                         3  \n2                         2  \n6                         3  \n7                         3  \n9                         2  \n12                        1  \n13                        2  \n14                        2  \n16                        1  \n20                        1  \n22                        1  \n24                        2  \n25                        2  \n27                        2  \n29                        4  \n30                        2  \n32                        3  \n34                        1  \n37                        1  \n39                        2  \n41                        1  \n42                        2  \n46                        1  \n57                        3  \n65                        1  \n66                        1  \n67                        2  \n69                        1  \n70                        0  \n73                        2  \n75                        1  \n76                        0  \n79                        0  \n80                        2  \n91                        1  \n93                        1  \n94                        2  \n95                        1  \n97                        2  \n98                        2  \n99                        2  \n100                       0  \n101                       2  \n102                       2  \n105                       1  \n106                       1  \n107                       3  \n116                       1  \n117                       2  \n121                       0  \n122                       2  \n124                       1  \n126                       0  \n129                       1  \n130                       1  ",
      "text/html": "<div>\n<style scoped>\n    .dataframe tbody tr th:only-of-type {\n        vertical-align: middle;\n    }\n\n    .dataframe tbody tr th {\n        vertical-align: top;\n    }\n\n    .dataframe thead th {\n        text-align: right;\n    }\n</style>\n<table border=\"1\" class=\"dataframe\">\n  <thead>\n    <tr style=\"text-align: right;\">\n      <th></th>\n      <th>image_id</th>\n      <th>diagnosis_true</th>\n      <th>logits</th>\n      <th>regression</th>\n      <th>regression_from_logits</th>\n      <th>diagnisos_regression</th>\n      <th>diagnisos_logits</th>\n      <th>diagnisos_reg_from_log</th>\n    </tr>\n  </thead>\n  <tbody>\n    <tr>\n      <th>0</th>\n      <td>IDRiD_001</td>\n      <td>3</td>\n      <td>[0.013231222, 0.008637085, 0.73025614, 0.21559...</td>\n      <td>2.241249</td>\n      <td>2.245056</td>\n      <td>2</td>\n      <td>2</td>\n      <td>2</td>\n    </tr>\n    <tr>\n      <th>1</th>\n      <td>IDRiD_005</td>\n      <td>4</td>\n      <td>[0.10114664, 0.0289896, 0.0063282703, 0.050347...</td>\n      <td>3.493390</td>\n      <td>3.445441</td>\n      <td>3</td>\n      <td>4</td>\n      <td>3</td>\n    </tr>\n    <tr>\n      <th>2</th>\n      <td>IDRiD_011</td>\n      <td>3</td>\n      <td>[0.011858935, 0.015906084, 0.9036092, 0.050163...</td>\n      <td>2.058267</td>\n      <td>2.047464</td>\n      <td>2</td>\n      <td>2</td>\n      <td>2</td>\n    </tr>\n    <tr>\n      <th>6</th>\n      <td>IDRiD_024</td>\n      <td>4</td>\n      <td>[0.048790153, 0.12205569, 0.3810807, 0.1345484...</td>\n      <td>2.418279</td>\n      <td>2.541963</td>\n      <td>2</td>\n      <td>2</td>\n      <td>3</td>\n    </tr>\n    <tr>\n      <th>7</th>\n      <td>IDRiD_030</td>\n      <td>4</td>\n      <td>[0.028467596, 0.008369564, 0.3763195, 0.205151...</td>\n      <td>3.050488</td>\n      <td>2.903230</td>\n      <td>3</td>\n      <td>4</td>\n      <td>3</td>\n    </tr>\n    <tr>\n      <th>9</th>\n      <td>IDRiD_034</td>\n      <td>3</td>\n      <td>[0.023887828, 0.014313844, 0.7780228, 0.163983...</td>\n      <td>2.056674</td>\n      <td>2.141478</td>\n      <td>2</td>\n      <td>2</td>\n      <td>2</td>\n    </tr>\n    <tr>\n      <th>12</th>\n      <td>IDRiD_045</td>\n      <td>2</td>\n      <td>[0.3135545, 0.0634013, 0.509784, 0.07251287, 0...</td>\n      <td>1.617755</td>\n      <td>1.463497</td>\n      <td>2</td>\n      <td>2</td>\n      <td>1</td>\n    </tr>\n    <tr>\n      <th>13</th>\n      <td>IDRiD_046</td>\n      <td>4</td>\n      <td>[0.21101043, 0.098241754, 0.64645225, 0.025946...</td>\n      <td>1.211233</td>\n      <td>1.542382</td>\n      <td>1</td>\n      <td>2</td>\n      <td>2</td>\n    </tr>\n    <tr>\n      <th>14</th>\n      <td>IDRiD_049</td>\n      <td>3</td>\n      <td>[0.02046901, 0.01142912, 0.8319336, 0.10941358...</td>\n      <td>2.170901</td>\n      <td>2.110556</td>\n      <td>2</td>\n      <td>2</td>\n      <td>2</td>\n    </tr>\n    <tr>\n      <th>16</th>\n      <td>IDRiD_051</td>\n      <td>2</td>\n      <td>[0.03714208, 0.8422897, 0.070583075, 0.0094649...</td>\n      <td>1.228551</td>\n      <td>1.173932</td>\n      <td>1</td>\n      <td>1</td>\n      <td>1</td>\n    </tr>\n    <tr>\n      <th>20</th>\n      <td>IDRiD_065</td>\n      <td>3</td>\n      <td>[0.14327437, 0.46193218, 0.34626442, 0.0180027...</td>\n      <td>1.160176</td>\n      <td>1.330574</td>\n      <td>1</td>\n      <td>1</td>\n      <td>1</td>\n    </tr>\n    <tr>\n      <th>22</th>\n      <td>IDRiD_074</td>\n      <td>2</td>\n      <td>[0.01571586, 0.5843479, 0.3389033, 0.010290413...</td>\n      <td>1.537929</td>\n      <td>1.495996</td>\n      <td>2</td>\n      <td>1</td>\n      <td>1</td>\n    </tr>\n    <tr>\n      <th>24</th>\n      <td>IDRiD_088</td>\n      <td>3</td>\n      <td>[0.14276186, 0.2562257, 0.5169418, 0.069241926...</td>\n      <td>1.686439</td>\n      <td>1.557150</td>\n      <td>2</td>\n      <td>2</td>\n      <td>2</td>\n    </tr>\n    <tr>\n      <th>25</th>\n      <td>IDRiD_090</td>\n      <td>4</td>\n      <td>[0.013981238, 0.008904123, 0.91487694, 0.05258...</td>\n      <td>2.092127</td>\n      <td>2.035023</td>\n      <td>2</td>\n      <td>2</td>\n      <td>2</td>\n    </tr>\n    <tr>\n      <th>27</th>\n      <td>IDRiD_101</td>\n      <td>3</td>\n      <td>[0.015787324, 0.010842741, 0.87353253, 0.08092...</td>\n      <td>2.131637</td>\n      <td>2.076330</td>\n      <td>2</td>\n      <td>2</td>\n      <td>2</td>\n    </tr>\n    <tr>\n      <th>29</th>\n      <td>IDRiD_110</td>\n      <td>3</td>\n      <td>[0.02130167, 0.00786723, 0.028772496, 0.287833...</td>\n      <td>3.411088</td>\n      <td>3.545813</td>\n      <td>3</td>\n      <td>4</td>\n      <td>4</td>\n    </tr>\n    <tr>\n      <th>30</th>\n      <td>IDRiD_114</td>\n      <td>3</td>\n      <td>[0.0040452788, 0.0030099687, 0.8804181, 0.0765...</td>\n      <td>2.547068</td>\n      <td>2.137432</td>\n      <td>3</td>\n      <td>2</td>\n      <td>2</td>\n    </tr>\n    <tr>\n      <th>32</th>\n      <td>IDRiD_119</td>\n      <td>4</td>\n      <td>[0.021432439, 0.0024534815, 0.010536361, 0.894...</td>\n      <td>3.288906</td>\n      <td>2.991813</td>\n      <td>3</td>\n      <td>3</td>\n      <td>3</td>\n    </tr>\n    <tr>\n      <th>34</th>\n      <td>IDRiD_124</td>\n      <td>2</td>\n      <td>[0.024769546, 0.9255, 0.035429306, 0.005170412...</td>\n      <td>1.099026</td>\n      <td>1.048393</td>\n      <td>1</td>\n      <td>1</td>\n      <td>1</td>\n    </tr>\n    <tr>\n      <th>37</th>\n      <td>IDRiD_137</td>\n      <td>2</td>\n      <td>[0.06928754, 0.51132727, 0.36832795, 0.0206915...</td>\n      <td>1.304356</td>\n      <td>1.431520</td>\n      <td>1</td>\n      <td>1</td>\n      <td>1</td>\n    </tr>\n    <tr>\n      <th>39</th>\n      <td>IDRiD_146</td>\n      <td>0</td>\n      <td>[0.42308944, 0.011971636, 0.007335985, 0.38802...</td>\n      <td>2.155368</td>\n      <td>1.869027</td>\n      <td>2</td>\n      <td>0</td>\n      <td>2</td>\n    </tr>\n    <tr>\n      <th>41</th>\n      <td>IDRiD_152</td>\n      <td>0</td>\n      <td>[0.42880386, 0.544764, 0.0031973387, 0.0086635...</td>\n      <td>0.464590</td>\n      <td>0.635434</td>\n      <td>0</td>\n      <td>1</td>\n      <td>1</td>\n    </tr>\n    <tr>\n      <th>42</th>\n      <td>IDRiD_153</td>\n      <td>0</td>\n      <td>[0.3071051, 0.117582984, 0.35141933, 0.1139592...</td>\n      <td>1.831347</td>\n      <td>1.602033</td>\n      <td>2</td>\n      <td>2</td>\n      <td>2</td>\n    </tr>\n    <tr>\n      <th>46</th>\n      <td>IDRiD_166</td>\n      <td>0</td>\n      <td>[0.3392605, 0.4720056, 0.11669564, 0.027945843...</td>\n      <td>1.121588</td>\n      <td>0.965604</td>\n      <td>1</td>\n      <td>1</td>\n      <td>1</td>\n    </tr>\n    <tr>\n      <th>57</th>\n      <td>IDRiD_224</td>\n      <td>4</td>\n      <td>[0.03914216, 0.0075050406, 0.3540531, 0.296483...</td>\n      <td>3.175687</td>\n      <td>2.816326</td>\n      <td>3</td>\n      <td>2</td>\n      <td>3</td>\n    </tr>\n    <tr>\n      <th>65</th>\n      <td>IDRiD_251</td>\n      <td>0</td>\n      <td>[0.7241927, 0.05314824, 0.17989983, 0.02062909...</td>\n      <td>-0.000570</td>\n      <td>0.563356</td>\n      <td>0</td>\n      <td>0</td>\n      <td>1</td>\n    </tr>\n    <tr>\n      <th>66</th>\n      <td>IDRiD_252</td>\n      <td>2</td>\n      <td>[0.6612754, 0.055302206, 0.21977913, 0.0355642...</td>\n      <td>0.346779</td>\n      <td>0.713869</td>\n      <td>0</td>\n      <td>0</td>\n      <td>1</td>\n    </tr>\n    <tr>\n      <th>67</th>\n      <td>IDRiD_253</td>\n      <td>3</td>\n      <td>[0.005765122, 0.013806587, 0.9675243, 0.009310...</td>\n      <td>1.843959</td>\n      <td>1.991161</td>\n      <td>2</td>\n      <td>2</td>\n      <td>2</td>\n    </tr>\n    <tr>\n      <th>69</th>\n      <td>IDRiD_262</td>\n      <td>2</td>\n      <td>[0.03813638, 0.92110455, 0.027865082, 0.002813...</td>\n      <td>0.858096</td>\n      <td>1.025597</td>\n      <td>1</td>\n      <td>1</td>\n      <td>1</td>\n    </tr>\n    <tr>\n      <th>70</th>\n      <td>IDRiD_266</td>\n      <td>1</td>\n      <td>[0.821764, 0.14744437, 0.0069305794, 0.0120342...</td>\n      <td>-0.000332</td>\n      <td>0.244715</td>\n      <td>0</td>\n      <td>0</td>\n      <td>0</td>\n    </tr>\n    <tr>\n      <th>73</th>\n      <td>IDRiD_278</td>\n      <td>3</td>\n      <td>[0.0053586676, 0.0030108117, 0.9413374, 0.0447...</td>\n      <td>2.179871</td>\n      <td>2.042072</td>\n      <td>2</td>\n      <td>2</td>\n      <td>2</td>\n    </tr>\n    <tr>\n      <th>75</th>\n      <td>IDRiD_282</td>\n      <td>2</td>\n      <td>[0.018949464, 0.9689316, 0.006675612, 0.000395...</td>\n      <td>0.739510</td>\n      <td>1.003661</td>\n      <td>1</td>\n      <td>1</td>\n      <td>1</td>\n    </tr>\n    <tr>\n      <th>76</th>\n      <td>IDRiD_291</td>\n      <td>1</td>\n      <td>[0.89911926, 0.04139836, 0.015149119, 0.017615...</td>\n      <td>-0.000951</td>\n      <td>0.231415</td>\n      <td>0</td>\n      <td>0</td>\n      <td>0</td>\n    </tr>\n    <tr>\n      <th>79</th>\n      <td>IDRiD_302</td>\n      <td>1</td>\n      <td>[0.90948266, 0.032950904, 0.02168486, 0.016649...</td>\n      <td>-0.000690</td>\n      <td>0.203197</td>\n      <td>0</td>\n      <td>0</td>\n      <td>0</td>\n    </tr>\n    <tr>\n      <th>80</th>\n      <td>IDRiD_309</td>\n      <td>3</td>\n      <td>[0.016661083, 0.012814043, 0.77909666, 0.17507...</td>\n      <td>2.107676</td>\n      <td>2.161641</td>\n      <td>2</td>\n      <td>2</td>\n      <td>2</td>\n    </tr>\n    <tr>\n      <th>91</th>\n      <td>IDRiD_345</td>\n      <td>0</td>\n      <td>[0.5523362, 0.31756443, 0.047071327, 0.0252601...</td>\n      <td>0.277751</td>\n      <td>0.718559</td>\n      <td>0</td>\n      <td>0</td>\n      <td>1</td>\n    </tr>\n    <tr>\n      <th>93</th>\n      <td>IDRiD_352</td>\n      <td>0</td>\n      <td>[0.75483316, 0.079705924, 0.08705256, 0.049083...</td>\n      <td>0.650596</td>\n      <td>0.518360</td>\n      <td>1</td>\n      <td>0</td>\n      <td>1</td>\n    </tr>\n    <tr>\n      <th>94</th>\n      <td>IDRiD_364</td>\n      <td>3</td>\n      <td>[0.07085795, 0.024626015, 0.7239038, 0.1052315...</td>\n      <td>2.088740</td>\n      <td>2.089651</td>\n      <td>2</td>\n      <td>2</td>\n      <td>2</td>\n    </tr>\n    <tr>\n      <th>95</th>\n      <td>IDRiD_365</td>\n      <td>0</td>\n      <td>[0.14111285, 0.85598725, 0.00048452953, 0.0008...</td>\n      <td>0.071784</td>\n      <td>0.865794</td>\n      <td>0</td>\n      <td>1</td>\n      <td>1</td>\n    </tr>\n    <tr>\n      <th>97</th>\n      <td>IDRiD_372</td>\n      <td>3</td>\n      <td>[0.053791277, 0.2193445, 0.63994354, 0.0420178...</td>\n      <td>1.721092</td>\n      <td>1.804897</td>\n      <td>2</td>\n      <td>2</td>\n      <td>2</td>\n    </tr>\n    <tr>\n      <th>98</th>\n      <td>IDRiD_376</td>\n      <td>3</td>\n      <td>[0.07137477, 0.010378005, 0.38596898, 0.415606...</td>\n      <td>2.831739</td>\n      <td>2.495823</td>\n      <td>3</td>\n      <td>3</td>\n      <td>2</td>\n    </tr>\n    <tr>\n      <th>99</th>\n      <td>IDRiD_384</td>\n      <td>3</td>\n      <td>[0.011261826, 0.004269046, 0.8332663, 0.122742...</td>\n      <td>2.476792</td>\n      <td>2.152871</td>\n      <td>2</td>\n      <td>2</td>\n      <td>2</td>\n    </tr>\n    <tr>\n      <th>100</th>\n      <td>IDRiD_388</td>\n      <td>1</td>\n      <td>[0.750382, 0.17839563, 0.026123412, 0.0306111,...</td>\n      <td>0.355109</td>\n      <td>0.380427</td>\n      <td>0</td>\n      <td>0</td>\n      <td>0</td>\n    </tr>\n    <tr>\n      <th>101</th>\n      <td>IDRiD_392</td>\n      <td>4</td>\n      <td>[0.012525975, 0.009370796, 0.6878051, 0.259050...</td>\n      <td>2.426302</td>\n      <td>2.287123</td>\n      <td>2</td>\n      <td>2</td>\n      <td>2</td>\n    </tr>\n    <tr>\n      <th>102</th>\n      <td>IDRiD_394</td>\n      <td>4</td>\n      <td>[0.025297679, 0.02166147, 0.7077292, 0.2247442...</td>\n      <td>2.228523</td>\n      <td>2.193622</td>\n      <td>2</td>\n      <td>2</td>\n      <td>2</td>\n    </tr>\n    <tr>\n      <th>105</th>\n      <td>IDRiD_412</td>\n      <td>2</td>\n      <td>[0.0037262721, 0.993134, 0.0016863926, 0.00015...</td>\n      <td>0.795019</td>\n      <td>1.002165</td>\n      <td>1</td>\n      <td>1</td>\n      <td>1</td>\n    </tr>\n    <tr>\n      <th>106</th>\n      <td>IDRiD_002</td>\n      <td>4</td>\n      <td>[0.23069882, 0.65680885, 0.06744452, 0.0193109...</td>\n      <td>0.833436</td>\n      <td>0.952578</td>\n      <td>1</td>\n      <td>1</td>\n      <td>1</td>\n    </tr>\n    <tr>\n      <th>107</th>\n      <td>IDRiD_008</td>\n      <td>2</td>\n      <td>[0.058012035, 0.16373846, 0.10245537, 0.026732...</td>\n      <td>2.836380</td>\n      <td>3.045093</td>\n      <td>3</td>\n      <td>4</td>\n      <td>3</td>\n    </tr>\n    <tr>\n      <th>116</th>\n      <td>IDRiD_045</td>\n      <td>0</td>\n      <td>[0.42615587, 0.4017964, 0.076411456, 0.0493222...</td>\n      <td>1.229057</td>\n      <td>0.887842</td>\n      <td>1</td>\n      <td>0</td>\n      <td>1</td>\n    </tr>\n    <tr>\n      <th>117</th>\n      <td>IDRiD_048</td>\n      <td>4</td>\n      <td>[0.088286854, 0.21105619, 0.60846066, 0.050920...</td>\n      <td>1.679520</td>\n      <td>1.745843</td>\n      <td>2</td>\n      <td>2</td>\n      <td>2</td>\n    </tr>\n    <tr>\n      <th>121</th>\n      <td>IDRiD_060</td>\n      <td>3</td>\n      <td>[0.71762276, 0.23583168, 0.014929408, 0.023151...</td>\n      <td>0.064259</td>\n      <td>0.369004</td>\n      <td>0</td>\n      <td>0</td>\n      <td>0</td>\n    </tr>\n    <tr>\n      <th>122</th>\n      <td>IDRiD_061</td>\n      <td>4</td>\n      <td>[0.07196774, 0.0296015, 0.70887876, 0.08657965...</td>\n      <td>2.465634</td>\n      <td>2.118988</td>\n      <td>2</td>\n      <td>2</td>\n      <td>2</td>\n    </tr>\n    <tr>\n      <th>124</th>\n      <td>IDRiD_076</td>\n      <td>2</td>\n      <td>[0.57475644, 0.37787446, 0.0077990615, 0.02018...</td>\n      <td>0.272266</td>\n      <td>0.531564</td>\n      <td>0</td>\n      <td>0</td>\n      <td>1</td>\n    </tr>\n    <tr>\n      <th>126</th>\n      <td>IDRiD_084</td>\n      <td>2</td>\n      <td>[0.93679893, 0.026608653, 0.008746877, 0.01606...</td>\n      <td>-0.002348</td>\n      <td>0.139419</td>\n      <td>0</td>\n      <td>0</td>\n      <td>0</td>\n    </tr>\n    <tr>\n      <th>129</th>\n      <td>IDRiD_094</td>\n      <td>0</td>\n      <td>[0.22307378, 0.23767322, 0.4535735, 0.03218691...</td>\n      <td>1.433398</td>\n      <td>1.455351</td>\n      <td>1</td>\n      <td>2</td>\n      <td>1</td>\n    </tr>\n    <tr>\n      <th>130</th>\n      <td>IDRiD_097</td>\n      <td>0</td>\n      <td>[0.091359094, 0.87817156, 0.010680983, 0.00996...</td>\n      <td>0.846728</td>\n      <td>0.968723</td>\n      <td>1</td>\n      <td>1</td>\n      <td>1</td>\n    </tr>\n  </tbody>\n</table>\n</div>"
     },
     "metadata": {},
     "output_type": "execute_result",
     "execution_count": 72
    }
   ],
   "source": [
    "df1[df1['diagnosis_true'] != df1['diagnisos_reg_from_log']]"
   ],
   "metadata": {
    "collapsed": false,
    "pycharm": {
     "name": "#%%\n",
     "is_executing": false
    }
   }
  },
  {
   "cell_type": "code",
   "execution_count": 73,
   "outputs": [],
   "source": [
    "\n",
    "import numpy as np\n",
    "import pandas as pd\n",
    "import os\n",
    "import scipy as sp\n",
    "from functools import partial\n",
    "from sklearn import metrics\n",
    "from collections import Counter\n",
    "import json"
   ],
   "metadata": {
    "collapsed": false,
    "pycharm": {
     "name": "#%%\n",
     "is_executing": false
    }
   }
  },
  {
   "cell_type": "code",
   "execution_count": 74,
   "outputs": [],
   "source": [
    "class OptimizedRounder(object):\n",
    "    def __init__(self):\n",
    "        self.coef_ = 0\n",
    "\n",
    "    def _kappa_loss(self, coef, X, y):\n",
    "        X_p = np.copy(X)\n",
    "        for i, pred in enumerate(X_p):\n",
    "            if pred < coef[0]:\n",
    "                X_p[i] = 0\n",
    "            elif pred >= coef[0] and pred < coef[1]:\n",
    "                X_p[i] = 1\n",
    "            elif pred >= coef[1] and pred < coef[2]:\n",
    "                X_p[i] = 2\n",
    "            elif pred >= coef[2] and pred < coef[3]:\n",
    "                X_p[i] = 3\n",
    "            else:\n",
    "                X_p[i] = 4\n",
    "\n",
    "        ll = metrics.cohen_kappa_score(y, X_p, weights='quadratic')\n",
    "        return -ll\n",
    "\n",
    "    def fit(self, X, y):\n",
    "        loss_partial = partial(self._kappa_loss, X=X, y=y)\n",
    "        initial_coef = [0.5, 1.5, 2.5, 3.5]\n",
    "        self.coef_ = sp.optimize.minimize(loss_partial, initial_coef, method='nelder-mead')\n",
    "\n",
    "    def predict(self, X, coef):\n",
    "        X_p = np.copy(X)\n",
    "        for i, pred in enumerate(X_p):\n",
    "            if pred < coef[0]:\n",
    "                X_p[i] = 0\n",
    "            elif pred >= coef[0] and pred < coef[1]:\n",
    "                X_p[i] = 1\n",
    "            elif pred >= coef[1] and pred < coef[2]:\n",
    "                X_p[i] = 2\n",
    "            elif pred >= coef[2] and pred < coef[3]:\n",
    "                X_p[i] = 3\n",
    "            else:\n",
    "                X_p[i] = 4\n",
    "        return X_p\n",
    "\n",
    "    def coefficients(self):\n",
    "        return self.coef_['x']"
   ],
   "metadata": {
    "collapsed": false,
    "pycharm": {
     "name": "#%%\n",
     "is_executing": false
    }
   }
  },
  {
   "cell_type": "code",
   "execution_count": 75,
   "outputs": [
    {
     "name": "stdout",
     "text": [
      "[0.56882927 1.59116436 2.02082512 3.03259576]",
      "\n",
      "0.8005066115827089",
      "\n"
     ],
     "output_type": "stream"
    }
   ],
   "source": [
    "optR = OptimizedRounder()\n",
    "optR.fit(df1['regression'], df1['diagnosis_true'])\n",
    "coefficients = optR.coefficients()\n",
    "print(coefficients)\n",
    "df1['optimized'] = optR.predict(df1['regression'], coefficients)\n",
    "\n",
    "score, num, denom = cohen_kappa_score(df1['diagnosis_true'].values, \n",
    "                          df1['optimized'].values, \n",
    "                          weights='quadratic')\n",
    "print(score)"
   ],
   "metadata": {
    "collapsed": false,
    "pycharm": {
     "name": "#%%\n",
     "is_executing": false
    }
   }
  },
  {
   "cell_type": "code",
   "execution_count": 76,
   "outputs": [
    {
     "name": "stdout",
     "text": [
      "[0.52773437 1.46015625 2.46289062 3.43164063]",
      "\n",
      "0.7767686172548882",
      "\n"
     ],
     "output_type": "stream"
    }
   ],
   "source": [
    "optR = OptimizedRounder()\n",
    "optR.fit(df1['regression_from_logits'], df1['diagnosis_true'])\n",
    "coefficients = optR.coefficients()\n",
    "print(coefficients)\n",
    "df1['optimized'] = optR.predict(df1['regression_from_logits'], coefficients)\n",
    "\n",
    "score, num, denom = cohen_kappa_score(df1['diagnosis_true'].values, \n",
    "                          df1['optimized'].values, \n",
    "                          weights='quadratic')\n",
    "print(score)"
   ],
   "metadata": {
    "collapsed": false,
    "pycharm": {
     "name": "#%%\n",
     "is_executing": false
    }
   }
  },
  {
   "cell_type": "code",
   "execution_count": 77,
   "outputs": [
    {
     "name": "stdout",
     "text": [
      "[0.52773437 1.46015625 2.46289062 3.43164063]",
      "\n",
      "0.7767686172548882",
      "\n"
     ],
     "output_type": "stream"
    }
   ],
   "source": [
    "\n",
    "optR = OptimizedRounder()\n",
    "optR.fit(df1['regression_from_logits'], df1['diagnosis_true'])\n",
    "coefficients = optR.coefficients()\n",
    "print(coefficients)\n",
    "df1['optimized'] = optR.predict(df1['regression_from_logits'], coefficients)\n",
    "\n",
    "score, num, denom = cohen_kappa_score(df1['diagnosis_true'].values, \n",
    "                          df1['optimized'].values, \n",
    "                          weights='quadratic')\n",
    "print(score)\n"
   ],
   "metadata": {
    "collapsed": false,
    "pycharm": {
     "name": "#%%\n",
     "is_executing": false
    }
   }
  },
  {
   "cell_type": "code",
   "execution_count": null,
   "outputs": [],
   "source": [
    "\n"
   ],
   "metadata": {
    "collapsed": false,
    "pycharm": {
     "name": "#%%\n"
    }
   }
  }
 ],
 "metadata": {
  "language_info": {
   "codemirror_mode": {
    "name": "ipython",
    "version": 2
   },
   "file_extension": ".py",
   "mimetype": "text/x-python",
   "name": "python",
   "nbconvert_exporter": "python",
   "pygments_lexer": "ipython2",
   "version": "2.7.6"
  },
  "kernelspec": {
   "name": "python3",
   "language": "python",
   "display_name": "Python 3"
  },
  "pycharm": {
   "stem_cell": {
    "cell_type": "raw",
    "source": [],
    "metadata": {
     "collapsed": false
    }
   }
  }
 },
 "nbformat": 4,
 "nbformat_minor": 0
}